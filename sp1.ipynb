{
 "cells": [
  {
   "cell_type": "code",
   "execution_count": 38,
   "metadata": {},
   "outputs": [],
   "source": [
    "import mysql.connector\n",
    "from mysql.connector import Error\n",
    "import pandas as pd"
   ]
  },
  {
   "cell_type": "code",
   "execution_count": 39,
   "metadata": {},
   "outputs": [],
   "source": [
    "def create_server_connection(host_name,user_name,user_password):\n",
    "    connection=None\n",
    "    try:\n",
    "        connection=mysql.connector.connect(host=host_name,user=user_name,passwd=user_password)\n",
    "        print('mysql database connection successful')\n",
    "    except Error as err:\n",
    "        print(f\"Error:'{err}'\")\n",
    "    return connection"
   ]
  },
  {
   "cell_type": "code",
   "execution_count": 40,
   "metadata": {},
   "outputs": [
    {
     "name": "stdout",
     "output_type": "stream",
     "text": [
      "mysql database connection successful\n"
     ]
    }
   ],
   "source": [
    "pw='okigotit09'\n",
    "db='operations_research'\n",
    "connection=create_server_connection('localhost','root',pw)"
   ]
  },
  {
   "cell_type": "code",
   "execution_count": 28,
   "metadata": {
    "scrolled": true
   },
   "outputs": [
    {
     "name": "stdout",
     "output_type": "stream",
     "text": [
      "Error:'1007 (HY000): Can't create database 'operations_research'; database exists'\n"
     ]
    }
   ],
   "source": [
    "def create_database(connection,query):\n",
    "    cursor=connection.cursor()\n",
    "    try:\n",
    "        cursor.execute(query)\n",
    "        print(\"database created successfully\")\n",
    "    except Error as err:\n",
    "        print(f\"Error:'{err}'\")\n",
    "        \n",
    "create_database_query='Create database operations_research'\n",
    "create_database(connection,create_database_query)"
   ]
  },
  {
   "cell_type": "code",
   "execution_count": 36,
   "metadata": {},
   "outputs": [],
   "source": [
    "#connect to the database\n",
    "def create_db_connection(host_name,user_name,user_password,db_name):\n",
    "    connection=None\n",
    "    try:\n",
    "        connection=mysql.connector.connect(host=host_name,user=user_name,passwd=user_password,database=db_name)\n",
    "        print('mysql database connection successful')\n",
    "    except Error as err:\n",
    "        print(f\"Error:'{err}'\")\n",
    "    return connection\n",
    "        "
   ]
  },
  {
   "cell_type": "code",
   "execution_count": 37,
   "metadata": {},
   "outputs": [],
   "source": [
    "#execute sql query\n",
    "def execute_query(connection,query):\n",
    "    cursor=connection.cursor()\n",
    "    try:\n",
    "        cursor.execute(query)\n",
    "        connection.commit()\n",
    "        print(\"Query was successful\")\n",
    "    except Error as err:\n",
    "        print(f\"Error:'{err}'\")"
   ]
  },
  {
   "cell_type": "code",
   "execution_count": 31,
   "metadata": {},
   "outputs": [],
   "source": [
    "create_orders_table=\"\"\"\n",
    "create table final_reviews(\n",
    "reviews varchar(3000) not null\n",
    ");\n",
    "\"\"\"\n"
   ]
  },
  {
   "cell_type": "code",
   "execution_count": 32,
   "metadata": {},
   "outputs": [
    {
     "name": "stdout",
     "output_type": "stream",
     "text": [
      "mysql database connection successful\n",
      "Query was successful\n"
     ]
    }
   ],
   "source": [
    "#connect to the database\n",
    "connection=create_db_connection('localhost','root',pw,db)\n",
    "execute_query(connection,create_orders_table)"
   ]
  },
  {
   "cell_type": "code",
   "execution_count": 22,
   "metadata": {},
   "outputs": [
    {
     "name": "stdout",
     "output_type": "stream",
     "text": [
      "mysql database connection successful\n",
      "Error:'1146 (42S02): Table 'operations_research.orders' doesn't exist'\n"
     ]
    }
   ],
   "source": [
    "#insert data\n",
    "data_orders=\"\"\"\n",
    "insert into final_reviews \n",
    "values(101,'shamim','laptop','2018-05-29',2,800,'01784365872'),\n",
    "(102,'sadd','tv','2018-05-29',2,800,'018651620138'),\n",
    "(103,'hasna','radio','2018-05-29',2,400,'05252013893')\n",
    "\n",
    "\"\"\"\n",
    "connection=create_db_connection('localhost','root',pw,db)\n",
    "execute_query(connection,data_orders)"
   ]
  },
  {
   "cell_type": "code",
   "execution_count": 10,
   "metadata": {},
   "outputs": [],
   "source": [
    "def read_query(connection,query):\n",
    "    cursor=connection.cursor()\n",
    "    result=None\n",
    "    try:\n",
    "        cursor.execute(query)\n",
    "        result=cursor.fetchall()\n",
    "        return result\n",
    "    except Error as err:\n",
    "        print(f\"Error:'{err}'\")"
   ]
  },
  {
   "cell_type": "code",
   "execution_count": 11,
   "metadata": {},
   "outputs": [],
   "source": [
    "#select_statement\n",
    "q1='''\n",
    "select *\n",
    "from orders\n",
    "limit 2;\n",
    "\n",
    "'''"
   ]
  },
  {
   "cell_type": "code",
   "execution_count": 12,
   "metadata": {},
   "outputs": [
    {
     "name": "stdout",
     "output_type": "stream",
     "text": [
      "mysql database connection successful\n",
      "(101, 'shamim', 'laptop', datetime.date(2018, 5, 29), 2, 800.0, '01784365872')\n",
      "(102, 'tanju', 'tv', datetime.date(2018, 5, 29), 2, 800.0, '01882013893')\n"
     ]
    }
   ],
   "source": [
    "connection=create_db_connection('localhost','root',pw,db)\n",
    "results=read_query(connection,q1)\n",
    "for result in results:\n",
    "    print(result)"
   ]
  },
  {
   "cell_type": "code",
   "execution_count": 13,
   "metadata": {},
   "outputs": [
    {
     "data": {
      "text/html": [
       "<div>\n",
       "<style scoped>\n",
       "    .dataframe tbody tr th:only-of-type {\n",
       "        vertical-align: middle;\n",
       "    }\n",
       "\n",
       "    .dataframe tbody tr th {\n",
       "        vertical-align: top;\n",
       "    }\n",
       "\n",
       "    .dataframe thead th {\n",
       "        text-align: right;\n",
       "    }\n",
       "</style>\n",
       "<table border=\"1\" class=\"dataframe\">\n",
       "  <thead>\n",
       "    <tr style=\"text-align: right;\">\n",
       "      <th></th>\n",
       "      <th>order_id</th>\n",
       "      <th>customer_name</th>\n",
       "      <th>product_name</th>\n",
       "      <th>data_ordered</th>\n",
       "      <th>quantity</th>\n",
       "      <th>unit_price</th>\n",
       "      <th>phone_number</th>\n",
       "    </tr>\n",
       "  </thead>\n",
       "  <tbody>\n",
       "    <tr>\n",
       "      <th>0</th>\n",
       "      <td>101</td>\n",
       "      <td>shamim</td>\n",
       "      <td>laptop</td>\n",
       "      <td>2018-05-29</td>\n",
       "      <td>2</td>\n",
       "      <td>800.0</td>\n",
       "      <td>01784365872</td>\n",
       "    </tr>\n",
       "    <tr>\n",
       "      <th>1</th>\n",
       "      <td>102</td>\n",
       "      <td>tanju</td>\n",
       "      <td>tv</td>\n",
       "      <td>2018-05-29</td>\n",
       "      <td>2</td>\n",
       "      <td>800.0</td>\n",
       "      <td>01882013893</td>\n",
       "    </tr>\n",
       "  </tbody>\n",
       "</table>\n",
       "</div>"
      ],
      "text/plain": [
       "   order_id customer_name product_name data_ordered  quantity  unit_price  \\\n",
       "0       101        shamim       laptop   2018-05-29         2       800.0   \n",
       "1       102         tanju           tv   2018-05-29         2       800.0   \n",
       "\n",
       "  phone_number  \n",
       "0  01784365872  \n",
       "1  01882013893  "
      ]
     },
     "metadata": {},
     "output_type": "display_data"
    }
   ],
   "source": [
    "from_db=[]\n",
    "for result in results:\n",
    "    result=list(result)\n",
    "    from_db.append(result)\n",
    "columns=['order_id','customer_name','product_name','data_ordered','quantity','unit_price','phone_number']\n",
    "df=pd.DataFrame(from_db,columns=columns)\n",
    "display(df)"
   ]
  },
  {
   "cell_type": "code",
   "execution_count": 14,
   "metadata": {},
   "outputs": [],
   "source": [
    "q2='''\n",
    "update orders\n",
    "set unit_price=500 where order_id=102;\n",
    "'''"
   ]
  },
  {
   "cell_type": "code",
   "execution_count": 15,
   "metadata": {},
   "outputs": [
    {
     "name": "stdout",
     "output_type": "stream",
     "text": [
      "mysql database connection successful\n",
      "Query was successful\n"
     ]
    }
   ],
   "source": [
    "connection=create_db_connection('localhost','root',pw,db)\n",
    "execute_query(connection,q2)\n"
   ]
  },
  {
   "cell_type": "code",
   "execution_count": 16,
   "metadata": {},
   "outputs": [
    {
     "name": "stdout",
     "output_type": "stream",
     "text": [
      "mysql database connection successful\n",
      "(101, 'shamim', 'laptop', datetime.date(2018, 5, 29), 2, 800.0, '01784365872')\n",
      "(102, 'tanju', 'tv', datetime.date(2018, 5, 29), 2, 500.0, '01882013893')\n"
     ]
    }
   ],
   "source": [
    "connection=create_db_connection('localhost','root',pw,db)\n",
    "results=read_query(connection,q1)\n",
    "for result in results:\n",
    "    print(result)"
   ]
  },
  {
   "cell_type": "code",
   "execution_count": null,
   "metadata": {},
   "outputs": [],
   "source": []
  }
 ],
 "metadata": {
  "kernelspec": {
   "display_name": "Python 3",
   "language": "python",
   "name": "python3"
  },
  "language_info": {
   "codemirror_mode": {
    "name": "ipython",
    "version": 3
   },
   "file_extension": ".py",
   "mimetype": "text/x-python",
   "name": "python",
   "nbconvert_exporter": "python",
   "pygments_lexer": "ipython3",
   "version": "3.9.0"
  }
 },
 "nbformat": 4,
 "nbformat_minor": 4
}
